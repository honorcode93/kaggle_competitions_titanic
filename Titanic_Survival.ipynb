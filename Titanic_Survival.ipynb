{
  "nbformat": 4,
  "nbformat_minor": 0,
  "metadata": {
    "colab": {
      "name": "Titanic Survival.ipynb",
      "version": "0.3.2",
      "provenance": [],
      "collapsed_sections": [],
      "include_colab_link": true
    },
    "kernelspec": {
      "name": "python3",
      "display_name": "Python 3"
    }
  },
  "cells": [
    {
      "cell_type": "markdown",
      "metadata": {
        "id": "view-in-github",
        "colab_type": "text"
      },
      "source": [
        "[View in Colaboratory](https://colab.research.google.com/github/honorcode93/kaggle_competitions_titanic/blob/master/Titanic_Survival.ipynb)"
      ]
    },
    {
      "metadata": {
        "id": "9vI6Rnk8Ge22",
        "colab_type": "text"
      },
      "cell_type": "markdown",
      "source": [
        "# This notebook was made in order to solve the Kaggle competition problem of predicting if a specific person in the titanic was able to survive or not. [See here](https://www.kaggle.com/c/titanic)"
      ]
    },
    {
      "metadata": {
        "id": "xnGthi0gF9dq",
        "colab_type": "code",
        "colab": {}
      },
      "cell_type": "code",
      "source": [
        ""
      ],
      "execution_count": 0,
      "outputs": []
    }
  ]
}